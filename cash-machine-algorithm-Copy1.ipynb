{
 "cells": [
  {
   "cell_type": "code",
   "execution_count": 172,
   "metadata": {},
   "outputs": [],
   "source": [
    "# Ejercicio de cajero automático.\n",
    "# crear un algoritmo que recibido un input, entregue la cantidad de billetes nacionales a \n",
    "# entregar para cumplir con lo solicitado.\n",
    "\n",
    "# Dev: Nicolás Neira Navarrete.\n",
    "# Date: 08-16-2020\n",
    "# Location: Santiago, Chile."
   ]
  },
  {
   "cell_type": "code",
   "execution_count": 173,
   "metadata": {},
   "outputs": [],
   "source": [
    "# Arreglo con los billetes nacionales actuales vigentes. Ordenamos de mayor a menor.\n",
    "billetes = [20000,10000,5000,2000,1000]\n",
    "\n",
    "# Arreglo el cual utilizaremos para guardar la cantidad de billetes a utilizar para completar la tarea.\n",
    "cantidad_billetes = [0,0,0,0,0]"
   ]
  },
  {
   "cell_type": "code",
   "execution_count": 175,
   "metadata": {},
   "outputs": [
    {
     "name": "stdout",
     "output_type": "stream",
     "text": [
      "1247000\n"
     ]
    }
   ],
   "source": [
    "# Cantidad que usuario solicita al cajero.\n",
    "cantidad_dinero = input()"
   ]
  },
  {
   "cell_type": "code",
   "execution_count": 176,
   "metadata": {},
   "outputs": [
    {
     "name": "stdout",
     "output_type": "stream",
     "text": [
      "1247000\n"
     ]
    }
   ],
   "source": [
    "# Variable que utilizaremos para manejar el estado de la cantidad dentro del ciclo\n",
    "cantidad_auxiliar = 0\n",
    "# Variable que utilizaremos para representar a la cantidad original dentro del siglo, sin tener que modificar el input.\n",
    "cantidad_acumulada = int(cantidad_dinero)\n",
    "print(cantidad_acumulada)"
   ]
  },
  {
   "cell_type": "code",
   "execution_count": 177,
   "metadata": {},
   "outputs": [],
   "source": [
    "# Ciclo for del largo del arreglo de los billetes nacionales.\n",
    "for i in range(len(billetes)):\n",
    "    if(cantidad_acumulada == 0):\n",
    "        break\n",
    "    else:\n",
    "        for j in range(1,999): # DEV COMMENT: pensar en un mejor iterador para esto\n",
    "            # Obtenemos la cantidad monetaría del producto del billete que iteramos en i con la posición en j\n",
    "            cantidad_auxiliar = billetes[i] * j\n",
    "            # Aquí se entrará en caso de que la cantidad auxiliar calculada es la misma que la cantidad acumulada.\n",
    "            if(cantidad_auxiliar == cantidad_acumulada):\n",
    "                # Le asignamos al arreglo de cantidad de billetes que la cantidad para el \n",
    "                # billete en posición i será j\n",
    "                cantidad_billetes[i] = j\n",
    "                # A la cantidad acumulada, que era la cantidad total que solicitó el usuario en primer lugar\n",
    "                # le restamos la cantidad monetaria que obtuvimos en esta iteración de j\n",
    "                cantidad_acumulada = cantidad_acumulada - cantidad_auxiliar\n",
    "                # Rompemos el ciclo para entrar en el siguiente billete.\n",
    "                break\n",
    "            # Aquí se entrará cuando el valor de la cantidad auxiliar actual sea menor a la cantidad acumulada actual\n",
    "            elif(cantidad_auxiliar < cantidad_acumulada):\n",
    "                cantidad_billetes[i] = j\n",
    "            # Aquí se entrará cuando el valor del billete en la posición i sea mayor a la cantidad acumulada actual.\n",
    "            else:\n",
    "                # Asignamos la cantidad axuliar como el producto del billete de la iteración i por \n",
    "                # el j - 1\n",
    "                cantidad_auxiliar = billetes[i] * (j -1)\n",
    "                # Restamos la cantidad acumulada con la cantidad auxiliar \n",
    "                cantidad_acumulada = cantidad_acumulada -  cantidad_auxiliar\n",
    "                # Rompemos el ciclo\n",
    "                break\n",
    "                \n",
    "                \n",
    "                "
   ]
  },
  {
   "cell_type": "code",
   "execution_count": 178,
   "metadata": {},
   "outputs": [
    {
     "name": "stdout",
     "output_type": "stream",
     "text": [
      "Cantidad solicitada:  1247000\n",
      "Cantidad billetes: \n",
      "$ 20000 = 62\n",
      "$ 10000 = 0\n",
      "$ 5000 = 1\n",
      "$ 2000 = 1\n",
      "$ 1000 = 0\n"
     ]
    }
   ],
   "source": [
    "# Cantidad de billetes por posición según arreglo `billetes`\n",
    "print('Cantidad solicitada: ', cantidad_dinero)\n",
    "print('Cantidad billetes: ')\n",
    "for i in range(len(cantidad_billetes)):\n",
    "    print('$',billetes[i], '=', cantidad_billetes[i])"
   ]
  },
  {
   "cell_type": "code",
   "execution_count": 118,
   "metadata": {},
   "outputs": [
    {
     "data": {
      "text/plain": [
       "list"
      ]
     },
     "execution_count": 118,
     "metadata": {},
     "output_type": "execute_result"
    }
   ],
   "source": [
    "type(cantidad_billetes)"
   ]
  },
  {
   "cell_type": "code",
   "execution_count": 125,
   "metadata": {},
   "outputs": [
    {
     "data": {
      "text/plain": [
       "[628, 1, 1, 1, 1]"
      ]
     },
     "execution_count": 125,
     "metadata": {},
     "output_type": "execute_result"
    }
   ],
   "source": [
    "cantidad_billetes"
   ]
  }
 ],
 "metadata": {
  "kernelspec": {
   "display_name": "Python 3",
   "language": "python",
   "name": "python3"
  },
  "language_info": {
   "codemirror_mode": {
    "name": "ipython",
    "version": 3
   },
   "file_extension": ".py",
   "mimetype": "text/x-python",
   "name": "python",
   "nbconvert_exporter": "python",
   "pygments_lexer": "ipython3",
   "version": "3.7.4"
  }
 },
 "nbformat": 4,
 "nbformat_minor": 2
}
